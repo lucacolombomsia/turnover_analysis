{
 "cells": [
  {
   "cell_type": "code",
   "execution_count": 22,
   "metadata": {
    "collapsed": true
   },
   "outputs": [],
   "source": [
    "import config\n",
    "import pandas as pd\n",
    "import numpy as np\n",
    "from sqlalchemy import create_engine\n",
    "from sklearn.linear_model import LogisticRegression\n",
    "import math\n",
    "import pickle\n",
    "pd.options.display.max_columns = 25"
   ]
  },
  {
   "cell_type": "code",
   "execution_count": 45,
   "metadata": {
    "collapsed": true
   },
   "outputs": [],
   "source": [
    "def read_data(table_name):\n",
    "    engine = create_engine(config.database_config)\n",
    "    sql = \"select * from \" + table_name\n",
    "    emp = pd.read_sql_query(sql, con = engine)\n",
    "    return emp\n",
    "\n",
    "def preprocess_for_sklearn(data):\n",
    "    y = data['left']\n",
    "    data.columns = map(str.lower, data.columns)\n",
    "    data.sales = data.sales.str.lower()\n",
    "    data = data.join(pd.get_dummies(data[\"sales\"], prefix=\"dept\"))\n",
    "    data = data.join(pd.get_dummies(data[\"salary\"], prefix=\"salary\"))\n",
    "    data = data.drop([\"left\", \"emp_id\", \"salary_high\", \"dept_accounting\", \"sales\", \"salary\"], axis = 1)\n",
    "    try:\n",
    "        data = data.drop([\"name\"], axis = 1)\n",
    "    except:\n",
    "        pass\n",
    "    #data[\"interaction_promotion_eval\"] = data.promotion_last_5years * data.last_evaluation\n",
    "    #data[\"interaction_promotion_tenure\"] = data.promotion_last_5years * data.time_spend_company\n",
    "    return (data, y)"
   ]
  },
  {
   "cell_type": "code",
   "execution_count": null,
   "metadata": {
    "collapsed": true
   },
   "outputs": [],
   "source": []
  },
  {
   "cell_type": "markdown",
   "metadata": {},
   "source": [
    "## Playground"
   ]
  },
  {
   "cell_type": "markdown",
   "metadata": {},
   "source": [
    "##### Next block does prediction using scikitlearn, should match results below"
   ]
  },
  {
   "cell_type": "code",
   "execution_count": 76,
   "metadata": {},
   "outputs": [
    {
     "name": "stdout",
     "output_type": "stream",
     "text": [
      "[0 0]\n",
      "[ 0.1154772   0.01001855  0.35615017  0.60428624  0.06932601  0.60068867\n",
      "  0.45953769  0.17723004  0.03859902  0.09246403  0.09077333]\n"
     ]
    }
   ],
   "source": [
    "data = read_data('employees_hist_data')\n",
    "X, y = preprocess_for_sklearn(data)\n",
    "logreg = LogisticRegression()\n",
    "logreg.fit(X, y)\n",
    "y_pred = logreg.predict(X.loc[0:1,:])\n",
    "y_pred_prob = logreg.predict_proba(X.loc[0:10,:])[:, 1]\n",
    "print(y_pred)\n",
    "print(y_pred_prob)"
   ]
  },
  {
   "cell_type": "code",
   "execution_count": 78,
   "metadata": {},
   "outputs": [
    {
     "data": {
      "text/plain": [
       "0.35615016853537901"
      ]
     },
     "execution_count": 78,
     "metadata": {},
     "output_type": "execute_result"
    }
   ],
   "source": [
    "a = list(X.loc[2,:])\n",
    "test = np.array([a])\n",
    "y_pred = logreg.predict_proba(test)[:, 1][0]\n",
    "y_pred"
   ]
  },
  {
   "cell_type": "markdown",
   "metadata": {},
   "source": [
    "## Check everything worked nicely with pickle approach"
   ]
  },
  {
   "cell_type": "markdown",
   "metadata": {},
   "source": [
    "##### Predict using scikitlearn on a single observation"
   ]
  },
  {
   "cell_type": "code",
   "execution_count": 50,
   "metadata": {
    "collapsed": true
   },
   "outputs": [],
   "source": [
    "pkl_filename = '../models/logistic.pkl'\n",
    "model_pkl = open(pkl_filename, 'rb')\n",
    "model = pickle.load(model_pkl)\n",
    "model_pkl.close()"
   ]
  },
  {
   "cell_type": "code",
   "execution_count": 82,
   "metadata": {},
   "outputs": [
    {
     "data": {
      "text/plain": [
       "0.030291716574721447"
      ]
     },
     "execution_count": 82,
     "metadata": {},
     "output_type": "execute_result"
    }
   ],
   "source": [
    "a = list(X.loc[2,:])\n",
    "a[6] = 1\n",
    "a[16] = 0\n",
    "a[17] = 0\n",
    "test = np.array([a])\n",
    "y_pred = model.predict_proba(test)[:, 1][0]\n",
    "y_pred\n",
    "#60% when low\n",
    "#46.8% when medium\n",
    "#20.8% when high"
   ]
  },
  {
   "cell_type": "code",
   "execution_count": 80,
   "metadata": {},
   "outputs": [
    {
     "data": {
      "text/plain": [
       "satisfaction_level         0.41\n",
       "last_evaluation            0.50\n",
       "number_project             2.00\n",
       "average_montly_hours     128.00\n",
       "time_spend_company         3.00\n",
       "work_accident              0.00\n",
       "promotion_last_5years      0.00\n",
       "dept_hr                    0.00\n",
       "dept_it                    0.00\n",
       "dept_management            1.00\n",
       "dept_marketing             0.00\n",
       "dept_product_mng           0.00\n",
       "dept_randd                 0.00\n",
       "dept_sales                 0.00\n",
       "dept_support               0.00\n",
       "dept_technical             0.00\n",
       "salary_low                 1.00\n",
       "salary_medium              0.00\n",
       "Name: 2, dtype: float64"
      ]
     },
     "execution_count": 80,
     "metadata": {},
     "output_type": "execute_result"
    }
   ],
   "source": [
    "X.loc[2,:]"
   ]
  },
  {
   "cell_type": "markdown",
   "metadata": {
    "collapsed": true
   },
   "source": [
    "Test the app with this data:\n",
    "- [0.57, 0.82, 4, 269, 2, False, False, Technical, Medium] ==> 21.30%\n",
    "- [0.97, 0.61, 4, 262, 3, True, True, Marketing, Medium] ==> 0.52%"
   ]
  },
  {
   "cell_type": "code",
   "execution_count": 17,
   "metadata": {},
   "outputs": [
    {
     "data": {
      "text/plain": [
       "[0.96999999999999997,\n",
       " 0.60999999999999999,\n",
       " 4.0,\n",
       " 262.0,\n",
       " 3.0,\n",
       " 1.0,\n",
       " 0,\n",
       " 0.0,\n",
       " 0.0,\n",
       " 0.0,\n",
       " 1.0,\n",
       " 0.0,\n",
       " 0.0,\n",
       " 0.0,\n",
       " 0.0,\n",
       " 0.0,\n",
       " 0.0,\n",
       " 1.0,\n",
       " 262.0,\n",
       " 3.0]"
      ]
     },
     "execution_count": 17,
     "metadata": {},
     "output_type": "execute_result"
    }
   ],
   "source": [
    "a[6] = 0\n",
    "a"
   ]
  },
  {
   "cell_type": "code",
   "execution_count": null,
   "metadata": {
    "collapsed": true
   },
   "outputs": [],
   "source": []
  }
 ],
 "metadata": {
  "kernelspec": {
   "display_name": "Python [conda root]",
   "language": "python",
   "name": "conda-root-py"
  },
  "language_info": {
   "codemirror_mode": {
    "name": "ipython",
    "version": 3
   },
   "file_extension": ".py",
   "mimetype": "text/x-python",
   "name": "python",
   "nbconvert_exporter": "python",
   "pygments_lexer": "ipython3",
   "version": "3.6.3"
  }
 },
 "nbformat": 4,
 "nbformat_minor": 2
}
