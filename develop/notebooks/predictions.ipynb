{
 "cells": [
  {
   "cell_type": "code",
   "execution_count": 1,
   "metadata": {
    "collapsed": true
   },
   "outputs": [],
   "source": [
    "import config\n",
    "import pandas as pd\n",
    "import numpy as np\n",
    "from sqlalchemy import create_engine\n",
    "from sklearn.linear_model import LogisticRegression\n",
    "import math\n",
    "import pickle\n",
    "pd.options.display.max_columns = 25"
   ]
  },
  {
   "cell_type": "markdown",
   "metadata": {},
   "source": [
    "## Reproduce some functions that we will need"
   ]
  },
  {
   "cell_type": "code",
   "execution_count": 2,
   "metadata": {
    "collapsed": true
   },
   "outputs": [],
   "source": [
    "def read_data(table_name):\n",
    "    engine = create_engine(config.database_config)\n",
    "    sql = \"select * from \" + table_name\n",
    "    emp = pd.read_sql_query(sql, con = engine)\n",
    "    return emp\n",
    "\n",
    "def preprocess_for_sklearn(data):\n",
    "    y = data['left']\n",
    "    data.columns = map(str.lower, data.columns)\n",
    "    data.sales = data.sales.str.lower()\n",
    "    data = data.join(pd.get_dummies(data[\"sales\"], prefix=\"dept\"))\n",
    "    data = data.join(pd.get_dummies(data[\"salary\"], prefix=\"salary\"))\n",
    "    data = data.drop([\"left\", \"emp_id\", \"salary_high\", \"dept_accounting\", \"sales\", \"salary\"], axis = 1)\n",
    "    try:\n",
    "        data = data.drop([\"name\"], axis = 1)\n",
    "    except:\n",
    "        pass\n",
    "    data[\"interaction_promotion_hours\"] = data.promotion_last_5years * data.average_montly_hours\n",
    "    data[\"interaction_promotion_tenure\"] = data.promotion_last_5years * data.time_spend_company\n",
    "    return (data, y)"
   ]
  },
  {
   "cell_type": "code",
   "execution_count": null,
   "metadata": {
    "collapsed": true
   },
   "outputs": [],
   "source": []
  },
  {
   "cell_type": "markdown",
   "metadata": {},
   "source": [
    "## Make predictions"
   ]
  },
  {
   "cell_type": "code",
   "execution_count": 10,
   "metadata": {},
   "outputs": [
    {
     "name": "stdout",
     "output_type": "stream",
     "text": [
      "(1000, 12)\n",
      "(1000, 20)\n"
     ]
    }
   ],
   "source": [
    "X = read_data(\"employees_new_data\")\n",
    "testX = preprocess_for_sklearn(X)[0]\n",
    "print(X.shape) ##\n",
    "print(testX.shape) #should be 20 columns"
   ]
  },
  {
   "cell_type": "code",
   "execution_count": 11,
   "metadata": {
    "collapsed": true
   },
   "outputs": [],
   "source": [
    "pkl_filename = '../models/logistic.pkl'\n",
    "model_pkl = open(pkl_filename, 'rb')\n",
    "model = pickle.load(model_pkl)\n",
    "model_pkl.close()"
   ]
  },
  {
   "cell_type": "code",
   "execution_count": 12,
   "metadata": {},
   "outputs": [],
   "source": [
    "y_pred = pd.DataFrame({\"phat\" : model.predict_proba(testX)[:,1]})\n",
    "X = X.join(y_pred)"
   ]
  },
  {
   "cell_type": "code",
   "execution_count": 13,
   "metadata": {
    "collapsed": true
   },
   "outputs": [],
   "source": [
    "X = X.sort_values(by='phat', ascending = False)"
   ]
  },
  {
   "cell_type": "code",
   "execution_count": 15,
   "metadata": {},
   "outputs": [
    {
     "data": {
      "text/html": [
       "<div>\n",
       "<style>\n",
       "    .dataframe thead tr:only-child th {\n",
       "        text-align: right;\n",
       "    }\n",
       "\n",
       "    .dataframe thead th {\n",
       "        text-align: left;\n",
       "    }\n",
       "\n",
       "    .dataframe tbody tr th {\n",
       "        vertical-align: top;\n",
       "    }\n",
       "</style>\n",
       "<table border=\"1\" class=\"dataframe\">\n",
       "  <thead>\n",
       "    <tr style=\"text-align: right;\">\n",
       "      <th></th>\n",
       "      <th>emp_id</th>\n",
       "      <th>satisfaction_level</th>\n",
       "      <th>last_evaluation</th>\n",
       "      <th>number_project</th>\n",
       "      <th>average_montly_hours</th>\n",
       "      <th>time_spend_company</th>\n",
       "      <th>work_accident</th>\n",
       "      <th>left</th>\n",
       "      <th>promotion_last_5years</th>\n",
       "      <th>sales</th>\n",
       "      <th>salary</th>\n",
       "      <th>name</th>\n",
       "      <th>phat</th>\n",
       "    </tr>\n",
       "  </thead>\n",
       "  <tbody>\n",
       "    <tr>\n",
       "      <th>170</th>\n",
       "      <td>1418</td>\n",
       "      <td>0.11</td>\n",
       "      <td>0.96</td>\n",
       "      <td>6</td>\n",
       "      <td>301</td>\n",
       "      <td>5</td>\n",
       "      <td>0</td>\n",
       "      <td>1</td>\n",
       "      <td>0</td>\n",
       "      <td>technical</td>\n",
       "      <td>low</td>\n",
       "      <td>Angela Moyer</td>\n",
       "      <td>0.818898</td>\n",
       "    </tr>\n",
       "  </tbody>\n",
       "</table>\n",
       "</div>"
      ],
      "text/plain": [
       "     emp_id  satisfaction_level  last_evaluation  number_project  \\\n",
       "170    1418                0.11             0.96               6   \n",
       "\n",
       "     average_montly_hours  time_spend_company  work_accident  left  \\\n",
       "170                   301                   5              0     1   \n",
       "\n",
       "     promotion_last_5years      sales salary          name      phat  \n",
       "170                      0  technical    low  Angela Moyer  0.818898  "
      ]
     },
     "execution_count": 15,
     "metadata": {},
     "output_type": "execute_result"
    }
   ],
   "source": [
    "X.head(1)"
   ]
  },
  {
   "cell_type": "code",
   "execution_count": 16,
   "metadata": {},
   "outputs": [
    {
     "data": {
      "text/plain": [
       "'<table border=\"1\" class=\"dataframe\">\\n  <thead>\\n    <tr style=\"text-align: right;\">\\n      <th></th>\\n      <th>emp_id</th>\\n      <th>satisfaction_level</th>\\n      <th>last_evaluation</th>\\n      <th>number_project</th>\\n      <th>average_montly_hours</th>\\n      <th>time_spend_company</th>\\n      <th>work_accident</th>\\n      <th>left</th>\\n      <th>promotion_last_5years</th>\\n      <th>sales</th>\\n      <th>salary</th>\\n      <th>name</th>\\n      <th>phat</th>\\n    </tr>\\n  </thead>\\n  <tbody>\\n    <tr>\\n      <th>170</th>\\n      <td>1418</td>\\n      <td>0.11</td>\\n      <td>0.96</td>\\n      <td>6</td>\\n      <td>301</td>\\n      <td>5</td>\\n      <td>0</td>\\n      <td>1</td>\\n      <td>0</td>\\n      <td>technical</td>\\n      <td>low</td>\\n      <td>Angela Moyer</td>\\n      <td>0.818898</td>\\n    </tr>\\n    <tr>\\n      <th>291</th>\\n      <td>798</td>\\n      <td>0.11</td>\\n      <td>0.91</td>\\n      <td>5</td>\\n      <td>291</td>\\n      <td>4</td>\\n      <td>0</td>\\n      <td>1</td>\\n      <td>0</td>\\n      <td>technical</td>\\n      <td>low</td>\\n      <td>Benjamin Pierce</td>\\n      <td>0.813738</td>\\n    </tr>\\n  </tbody>\\n</table>'"
      ]
     },
     "execution_count": 16,
     "metadata": {},
     "output_type": "execute_result"
    }
   ],
   "source": [
    "X.head(2).to_html()"
   ]
  },
  {
   "cell_type": "markdown",
   "metadata": {
    "collapsed": true
   },
   "source": [
    "#### Earlier check to make sure everything was working the same using pickle or not"
   ]
  },
  {
   "cell_type": "code",
   "execution_count": null,
   "metadata": {},
   "outputs": [],
   "source": [
    "trainX, trainY = preprocess_for_sklearn(read_data(\"employees_hist_data\"))\n",
    "trainX.shape"
   ]
  },
  {
   "cell_type": "code",
   "execution_count": null,
   "metadata": {},
   "outputs": [],
   "source": [
    "logreg = LogisticRegression()\n",
    "logreg.fit(trainX, trainY)\n",
    "y_pred_prob = logreg.predict_proba(testX)[:,1]\n",
    "y_pred_prob[0:5]"
   ]
  }
 ],
 "metadata": {
  "kernelspec": {
   "display_name": "Python [conda root]",
   "language": "python",
   "name": "conda-root-py"
  },
  "language_info": {
   "codemirror_mode": {
    "name": "ipython",
    "version": 3
   },
   "file_extension": ".py",
   "mimetype": "text/x-python",
   "name": "python",
   "nbconvert_exporter": "python",
   "pygments_lexer": "ipython3",
   "version": "3.6.3"
  }
 },
 "nbformat": 4,
 "nbformat_minor": 2
}
