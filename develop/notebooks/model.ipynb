{
 "cells": [
  {
   "cell_type": "code",
   "execution_count": 67,
   "metadata": {
    "collapsed": true
   },
   "outputs": [],
   "source": [
    "import config\n",
    "import pandas as pd\n",
    "import numpy as np\n",
    "from sqlalchemy import create_engine\n",
    "from sklearn.linear_model import LogisticRegression\n",
    "import math\n",
    "import pickle\n",
    "pd.options.display.max_columns = 25"
   ]
  },
  {
   "cell_type": "code",
   "execution_count": 63,
   "metadata": {
    "collapsed": true
   },
   "outputs": [],
   "source": [
    "def read_data():\n",
    "    engine = create_engine(config.database_config)\n",
    "    emp = pd.read_sql_query(\"select * from employees\", con = engine)\n",
    "    y = emp['left']\n",
    "    emp = emp.drop('left', axis=1)\n",
    "    emp.sales = emp.sales.str.lower()\n",
    "    emp = emp.join(pd.get_dummies(emp[\"sales\"], prefix=\"dept\"))\n",
    "    emp = emp.join(pd.get_dummies(emp[\"salary\"], prefix=\"salary\"))\n",
    "    emp = emp.drop([\"empID\", \"salary_high\", \"dept_accounting\", \"sales\", \"salary\"], axis = 1)\n",
    "    emp.shape\n",
    "    return (emp, y)"
   ]
  },
  {
   "cell_type": "code",
   "execution_count": 64,
   "metadata": {
    "collapsed": true
   },
   "outputs": [],
   "source": [
    "def fit_model_db(data):\n",
    "    X = data[0]\n",
    "    y = data[1]\n",
    "    logreg = LogisticRegression()\n",
    "    logreg.fit(X, y)\n",
    "    b = [logreg.intercept_[0]]\n",
    "    for x in logreg.coef_[0]:\n",
    "        b.append(x)\n",
    "    beta_df = pd.DataFrame({\"b_vect\" : b})\n",
    "    engine = create_engine(config.database_config)\n",
    "    beta_df.to_sql(name = 'betas', con = engine, if_exists='replace', index=False)"
   ]
  },
  {
   "cell_type": "code",
   "execution_count": 68,
   "metadata": {
    "collapsed": true
   },
   "outputs": [],
   "source": [
    "def fit_model_pickle(data):\n",
    "    X = data[0]\n",
    "    y = data[1]\n",
    "    logreg = LogisticRegression()\n",
    "    logreg.fit(X, y)\n",
    "    #pickle the model\n",
    "    pkl_filename = '../models/logistic.pkl'\n",
    "    model_pkl = open(pkl_filename, 'wb')\n",
    "    pickle.dump(logreg, model_pkl)\n",
    "    model_pkl.close()"
   ]
  },
  {
   "cell_type": "code",
   "execution_count": 69,
   "metadata": {},
   "outputs": [],
   "source": [
    "if __name__ == \"__main__\":\n",
    "    fit_model_db(read_data())\n",
    "    fit_model_pickle(read_data())"
   ]
  },
  {
   "cell_type": "code",
   "execution_count": null,
   "metadata": {},
   "outputs": [],
   "source": []
  },
  {
   "cell_type": "markdown",
   "metadata": {},
   "source": [
    "## Check everything worked nicely with DB approach"
   ]
  },
  {
   "cell_type": "code",
   "execution_count": 70,
   "metadata": {
    "collapsed": true
   },
   "outputs": [],
   "source": [
    "X, y = read_data()"
   ]
  },
  {
   "cell_type": "code",
   "execution_count": 71,
   "metadata": {
    "collapsed": true
   },
   "outputs": [],
   "source": [
    "engine = create_engine(config.database_config)\n",
    "b = pd.read_sql_query(\"select * from betas\", con = engine)\n",
    "b = list(b.b_vect)"
   ]
  },
  {
   "cell_type": "code",
   "execution_count": 72,
   "metadata": {},
   "outputs": [
    {
     "data": {
      "text/plain": [
       "0.5267692106771844"
      ]
     },
     "execution_count": 72,
     "metadata": {},
     "output_type": "execute_result"
    }
   ],
   "source": [
    "a = [1] + [x for x in list(X.loc[0,:])]\n",
    "logodds = np.inner(a, b)\n",
    "math.exp(logodds)/(1+math.exp(logodds))"
   ]
  },
  {
   "cell_type": "markdown",
   "metadata": {},
   "source": [
    "##### Next block does prediction using scikitlearn, should match results from above"
   ]
  },
  {
   "cell_type": "code",
   "execution_count": 78,
   "metadata": {},
   "outputs": [
    {
     "name": "stdout",
     "output_type": "stream",
     "text": [
      "[1 0]\n",
      "[ 0.52676921  0.16806627]\n"
     ]
    }
   ],
   "source": [
    "logreg = LogisticRegression()\n",
    "logreg.fit(X, y)\n",
    "y_pred = logreg.predict(X.loc[0:1,:])\n",
    "y_pred_prob = logreg.predict_proba(X.loc[0:1,:])[:, 1]\n",
    "print(y_pred)\n",
    "print(y_pred_prob)"
   ]
  },
  {
   "cell_type": "code",
   "execution_count": null,
   "metadata": {},
   "outputs": [],
   "source": []
  },
  {
   "cell_type": "markdown",
   "metadata": {},
   "source": [
    "## Check everything worked nicely with pickle approach"
   ]
  },
  {
   "cell_type": "markdown",
   "metadata": {},
   "source": [
    "##### Predict using scikitlearn on a single observation"
   ]
  },
  {
   "cell_type": "code",
   "execution_count": 81,
   "metadata": {
    "collapsed": true
   },
   "outputs": [],
   "source": [
    "pkl_filename = '../models/logistic.pkl'\n",
    "model_pkl = open(pkl_filename, 'rb')\n",
    "model = pickle.load(model_pkl)\n",
    "model_pkl.close()"
   ]
  },
  {
   "cell_type": "code",
   "execution_count": 82,
   "metadata": {},
   "outputs": [
    {
     "data": {
      "text/plain": [
       "0.5267692106771843"
      ]
     },
     "execution_count": 82,
     "metadata": {},
     "output_type": "execute_result"
    }
   ],
   "source": [
    "test = np.array([a[1:19]])\n",
    "y_pred = model.predict_proba(test)[:, 1][0]\n",
    "y_pred"
   ]
  },
  {
   "cell_type": "code",
   "execution_count": null,
   "metadata": {
    "collapsed": true
   },
   "outputs": [],
   "source": []
  }
 ],
 "metadata": {
  "kernelspec": {
   "display_name": "Python [conda root]",
   "language": "python",
   "name": "conda-root-py"
  },
  "language_info": {
   "codemirror_mode": {
    "name": "ipython",
    "version": 3
   },
   "file_extension": ".py",
   "mimetype": "text/x-python",
   "name": "python",
   "nbconvert_exporter": "python",
   "pygments_lexer": "ipython3",
   "version": "3.6.3"
  }
 },
 "nbformat": 4,
 "nbformat_minor": 2
}
