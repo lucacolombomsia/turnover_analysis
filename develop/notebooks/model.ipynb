{
 "cells": [
  {
   "cell_type": "code",
   "execution_count": 1,
   "metadata": {},
   "outputs": [],
   "source": [
    "def preprocess_for_sklearn(data):\n",
    "    data.columns = map(str.lower, data.columns)\n",
    "    data.sales = data.sales.str.lower()\n",
    "    # create dummies for categorical variables\n",
    "    data = data.join(pd.get_dummies(data[\"sales\"], prefix=\"dept\"))\n",
    "    data = data.join(pd.get_dummies(data[\"salary\"], prefix=\"salary\"))\n",
    "    # drop variables that should not be in the X matrix\n",
    "    # these include: employer ID, categorical variables that have\n",
    "    # been converted into dummies and one dummy per each\n",
    "    # categorical variable (to avoid perfect multicollinearity)\n",
    "    data = data.drop([\"emp_id\", \"salary_high\", \"dept_accounting\",\n",
    "                      \"sales\", \"salary\"], axis=1)\n",
    "    # the test data has an extra column compared to the train data\n",
    "    # it's the name of the employee and it has to be dropped\n",
    "    try:\n",
    "        data = data.drop([\"name\"], axis=1)\n",
    "    except ValueError:\n",
    "        pass\n",
    "    return data"
   ]
  },
  {
   "cell_type": "code",
   "execution_count": 2,
   "metadata": {},
   "outputs": [
    {
     "name": "stdout",
     "output_type": "stream",
     "text": [
      "(13999, 11)\n",
      "(500, 11)\n"
     ]
    }
   ],
   "source": [
    "import pandas as pd\n",
    "import numpy as np\n",
    "\n",
    "data = pd.read_csv('../Data/train.csv')\n",
    "print(data.shape)\n",
    "test = pd.read_csv('../Data/test.csv')\n",
    "print(test.shape)"
   ]
  },
  {
   "cell_type": "code",
   "execution_count": 3,
   "metadata": {},
   "outputs": [
    {
     "name": "stdout",
     "output_type": "stream",
     "text": [
      "(13999, 18)\n",
      "(500, 18)\n"
     ]
    }
   ],
   "source": [
    "X = preprocess_for_sklearn(data.drop([\"left\"], axis=1))\n",
    "y = data.left\n",
    "print(X.shape)\n",
    "Xpred = preprocess_for_sklearn(test.drop([\"left\"], axis=1))\n",
    "ypred = test.left\n",
    "print(Xpred.shape)"
   ]
  },
  {
   "cell_type": "markdown",
   "metadata": {},
   "source": [
    "## Random forest"
   ]
  },
  {
   "cell_type": "code",
   "execution_count": 8,
   "metadata": {},
   "outputs": [
    {
     "name": "stdout",
     "output_type": "stream",
     "text": [
      "Accuracy: 0.988\n",
      "Recall: 0.9512195121951219\n"
     ]
    },
    {
     "data": {
      "text/plain": [
       "array([[377,   0],\n",
       "       [  6, 117]])"
      ]
     },
     "execution_count": 8,
     "metadata": {},
     "output_type": "execute_result"
    }
   ],
   "source": [
    "from sklearn.ensemble import RandomForestClassifier\n",
    "from sklearn.metrics import accuracy_score\n",
    "from sklearn.metrics import recall_score\n",
    "from sklearn.metrics import confusion_matrix\n",
    "\n",
    "clf = RandomForestClassifier(max_depth=15, random_state=45, n_estimators=200)\n",
    "clf.fit(X, y)\n",
    "\n",
    "predicted_labels = clf.predict(Xpred)\n",
    "\n",
    "print(\"Accuracy: \" + str(accuracy_score(ypred, predicted_labels)))\n",
    "print(\"Recall: \" + str(recall_score(ypred, predicted_labels)))\n",
    "\n",
    "confusion_matrix(ypred, predicted_labels)"
   ]
  },
  {
   "cell_type": "code",
   "execution_count": 9,
   "metadata": {},
   "outputs": [
    {
     "name": "stdout",
     "output_type": "stream",
     "text": [
      "['satisfaction_level', 'last_evaluation', 'number_project', 'average_montly_hours', 'time_spend_company', 'work_accident', 'promotion_last_5years', 'dept_hr', 'dept_it', 'dept_management', 'dept_marketing', 'dept_product_mng', 'dept_randd', 'dept_sales', 'dept_support', 'dept_technical', 'salary_low', 'salary_medium']\n"
     ]
    },
    {
     "data": {
      "text/plain": [
       "array([0.31486599, 0.1165723 , 0.18519465, 0.15299445, 0.19243088,\n",
       "       0.00913026, 0.00162846, 0.00120084, 0.00145694, 0.00146177,\n",
       "       0.00092767, 0.00087791, 0.00151864, 0.00278334, 0.00241922,\n",
       "       0.00306884, 0.00810917, 0.00335868])"
      ]
     },
     "execution_count": 9,
     "metadata": {},
     "output_type": "execute_result"
    }
   ],
   "source": [
    "print(list(X))\n",
    "clf.feature_importances_"
   ]
  },
  {
   "cell_type": "code",
   "execution_count": 10,
   "metadata": {},
   "outputs": [
    {
     "data": {
      "text/html": [
       "<div>\n",
       "<style scoped>\n",
       "    .dataframe tbody tr th:only-of-type {\n",
       "        vertical-align: middle;\n",
       "    }\n",
       "\n",
       "    .dataframe tbody tr th {\n",
       "        vertical-align: top;\n",
       "    }\n",
       "\n",
       "    .dataframe thead th {\n",
       "        text-align: right;\n",
       "    }\n",
       "</style>\n",
       "<table border=\"1\" class=\"dataframe\">\n",
       "  <thead>\n",
       "    <tr style=\"text-align: right;\">\n",
       "      <th></th>\n",
       "      <th>0</th>\n",
       "      <th>1</th>\n",
       "    </tr>\n",
       "  </thead>\n",
       "  <tbody>\n",
       "    <tr>\n",
       "      <th>0</th>\n",
       "      <td>0.991899</td>\n",
       "      <td>0.008101</td>\n",
       "    </tr>\n",
       "    <tr>\n",
       "      <th>1</th>\n",
       "      <td>0.976543</td>\n",
       "      <td>0.023457</td>\n",
       "    </tr>\n",
       "    <tr>\n",
       "      <th>2</th>\n",
       "      <td>0.000980</td>\n",
       "      <td>0.999020</td>\n",
       "    </tr>\n",
       "    <tr>\n",
       "      <th>3</th>\n",
       "      <td>0.978955</td>\n",
       "      <td>0.021045</td>\n",
       "    </tr>\n",
       "    <tr>\n",
       "      <th>4</th>\n",
       "      <td>0.993986</td>\n",
       "      <td>0.006014</td>\n",
       "    </tr>\n",
       "  </tbody>\n",
       "</table>\n",
       "</div>"
      ],
      "text/plain": [
       "          0         1\n",
       "0  0.991899  0.008101\n",
       "1  0.976543  0.023457\n",
       "2  0.000980  0.999020\n",
       "3  0.978955  0.021045\n",
       "4  0.993986  0.006014"
      ]
     },
     "execution_count": 10,
     "metadata": {},
     "output_type": "execute_result"
    }
   ],
   "source": [
    "pred_proba = pd.DataFrame(clf.predict_proba(Xpred))\n",
    "#list(clf.predict_proba(Xpred)[:,1])\n",
    "pred_proba.head()"
   ]
  },
  {
   "cell_type": "code",
   "execution_count": 21,
   "metadata": {},
   "outputs": [
    {
     "name": "stdout",
     "output_type": "stream",
     "text": [
      "1\n"
     ]
    },
    {
     "data": {
      "text/plain": [
       "0.9987496361344554"
      ]
     },
     "execution_count": 21,
     "metadata": {},
     "output_type": "execute_result"
    }
   ],
   "source": [
    "n = 285\n",
    "print(predicted_labels[n])\n",
    "pred_proba.loc[n,1]"
   ]
  },
  {
   "cell_type": "code",
   "execution_count": 23,
   "metadata": {},
   "outputs": [
    {
     "data": {
      "text/plain": [
       "0.9987496361344554"
      ]
     },
     "execution_count": 23,
     "metadata": {},
     "output_type": "execute_result"
    }
   ],
   "source": [
    "test_obs = np.array([Xpred.loc[285,:]])\n",
    "clf.predict_proba(test_obs)[0][1]"
   ]
  },
  {
   "cell_type": "code",
   "execution_count": 32,
   "metadata": {},
   "outputs": [],
   "source": [
    "#x = np.array([[0.11, 0.8, 6.0, 285.0, 4.0, 0.0, 0.0, 0.0, 0.0, 0.0, 0.0, 0.0, 0.0, 0.0, 0.0, 0.0, 0.0, 1.0]])\n",
    "\n",
    "#change hours, first of second row(promotion) and last two (salary)\n",
    "x = np.array([[0.21, 0.8, 6.0, 250.0, 4.0, 0.0,\n",
    " 1.0, 0.0, 0.0,\n",
    " 0.0, 0.0, 0.0, 0.0, 0.0, 0.0, 0.0, 0.0, 0.0]])"
   ]
  },
  {
   "cell_type": "code",
   "execution_count": 33,
   "metadata": {},
   "outputs": [
    {
     "data": {
      "text/plain": [
       "0.035365913818268854"
      ]
     },
     "execution_count": 33,
     "metadata": {},
     "output_type": "execute_result"
    }
   ],
   "source": [
    "clf.predict_proba(x)[0][1]"
   ]
  },
  {
   "cell_type": "markdown",
   "metadata": {},
   "source": [
    "# Classification tree"
   ]
  },
  {
   "cell_type": "code",
   "execution_count": null,
   "metadata": {},
   "outputs": [],
   "source": [
    "from sklearn import tree\n",
    "from sklearn.metrics import accuracy_score\n",
    "from sklearn.metrics import recall_score\n",
    "from sklearn.metrics import confusion_matrix\n",
    "\n",
    "clf = tree.DecisionTreeClassifier(max_depth = 3)\n",
    "clf = clf.fit(X, y)\n",
    "\n",
    "predicted_labels = clf.predict(Xpred)\n",
    "\n",
    "print(\"Accuracy: \" + str(accuracy_score(ypred, predicted_labels)))\n",
    "print(\"Recall: \" + str(recall_score(ypred, predicted_labels)))\n",
    "\n",
    "confusion_matrix(ypred, predicted_labels)"
   ]
  },
  {
   "cell_type": "code",
   "execution_count": null,
   "metadata": {},
   "outputs": [],
   "source": [
    "print(list(X))\n",
    "clf.feature_importances_"
   ]
  },
  {
   "cell_type": "code",
   "execution_count": null,
   "metadata": {},
   "outputs": [],
   "source": [
    "pred_proba = pd.DataFrame(clf.predict_proba(Xpred))"
   ]
  },
  {
   "cell_type": "code",
   "execution_count": null,
   "metadata": {},
   "outputs": [],
   "source": [
    "n = 329\n",
    "print(predicted_labels[n])\n",
    "pred_proba.loc[n,1]"
   ]
  },
  {
   "cell_type": "code",
   "execution_count": null,
   "metadata": {},
   "outputs": [],
   "source": [
    "test_obs = np.array([Xpred.loc[329,:]])\n",
    "clf.predict_proba(test_obs)[0][1]"
   ]
  },
  {
   "cell_type": "code",
   "execution_count": null,
   "metadata": {},
   "outputs": [],
   "source": [
    "x = np.array([[0.12, 0.6, 4.0, 400.0, 5.0, 0.0,\n",
    " 0.0, 0.0, 0.0,\n",
    " 0.0, 0.0, 0.0, 0.0, 0.0, 1.0, 0.0, 1.0, 0.0]])"
   ]
  },
  {
   "cell_type": "code",
   "execution_count": null,
   "metadata": {},
   "outputs": [],
   "source": [
    "clf.predict_proba(x)"
   ]
  },
  {
   "cell_type": "code",
   "execution_count": null,
   "metadata": {},
   "outputs": [],
   "source": [
    "#parameters = {'max_depth': list(range(3,21))}\n",
    "#clf = grid_search.GridSearchCV(tree.DecisionTreeClassifier(), parameters, n_jobs=2, cv = 10)\n",
    "#clf.fit(X, y)\n",
    "#tree_model = clf.best_estimator_\n",
    "#print(clf.best_score_, clf.best_params_) "
   ]
  },
  {
   "cell_type": "code",
   "execution_count": null,
   "metadata": {},
   "outputs": [],
   "source": []
  },
  {
   "cell_type": "markdown",
   "metadata": {},
   "source": [
    "# Logistic regression"
   ]
  },
  {
   "cell_type": "code",
   "execution_count": null,
   "metadata": {},
   "outputs": [],
   "source": [
    "from sklearn.linear_model import LogisticRegression\n",
    "from sklearn.metrics import accuracy_score\n",
    "from sklearn.metrics import recall_score\n",
    "from sklearn.metrics import confusion_matrix\n",
    "\n",
    "logreg = LogisticRegression()\n",
    "logreg.fit(X, y)\n",
    "\n",
    "predicted_labels = logreg.predict(Xpred)\n",
    "\n",
    "print(\"Accuracy: \" + str(accuracy_score(ypred, predicted_labels)))\n",
    "print(\"Recall: \" + str(recall_score(ypred, predicted_labels)))\n",
    "\n",
    "confusion_matrix(ypred, predicted_labels)"
   ]
  },
  {
   "cell_type": "code",
   "execution_count": null,
   "metadata": {},
   "outputs": [],
   "source": []
  },
  {
   "cell_type": "markdown",
   "metadata": {},
   "source": [
    "## Playground and multiple piles of crap"
   ]
  },
  {
   "cell_type": "code",
   "execution_count": null,
   "metadata": {},
   "outputs": [],
   "source": [
    "def read_data(table_name):\n",
    "    engine = create_engine(config.database_config)\n",
    "    sql = \"select * from \" + table_name\n",
    "    data = pd.read_sql_query(sql, con = engine)\n",
    "    try:\n",
    "        y = data.left\n",
    "        data = data.drop([\"left\"], axis = 1)\n",
    "        return (data, y)\n",
    "    except:\n",
    "        return data\n",
    "\n",
    "def preprocess_for_sklearn(data):\n",
    "    data.columns = map(str.lower, data.columns)\n",
    "    data.sales = data.sales.str.lower()\n",
    "    #create dummies for categorical variables\n",
    "    data = data.join(pd.get_dummies(data[\"sales\"], prefix=\"dept\"))\n",
    "    data = data.join(pd.get_dummies(data[\"salary\"], prefix=\"salary\"))\n",
    "    #drop variables that should not be in the X matrix\n",
    "    #these include: left (ie the target variable), employer ID, categorical vars and\n",
    "    #one dummy per category (to avoid perfect multicollinearity)\n",
    "    data = data.drop([\"emp_id\", \"salary_high\", \"dept_accounting\", \"sales\", \"salary\"], axis = 1)\n",
    "    try:\n",
    "        data = data.drop([\"name\"], axis = 1)\n",
    "    except:\n",
    "        pass\n",
    "    return data"
   ]
  },
  {
   "cell_type": "code",
   "execution_count": null,
   "metadata": {},
   "outputs": [],
   "source": [
    "import config\n",
    "import pandas as pd\n",
    "import numpy as np\n",
    "from sqlalchemy import create_engine\n",
    "from sklearn.linear_model import LogisticRegression\n",
    "import math\n",
    "import pickle\n",
    "pd.options.display.max_columns = 25"
   ]
  },
  {
   "cell_type": "markdown",
   "metadata": {},
   "source": [
    "##### Next block does prediction using scikitlearn, should match results below"
   ]
  },
  {
   "cell_type": "code",
   "execution_count": null,
   "metadata": {},
   "outputs": [],
   "source": [
    "X, y = read_data('employees_hist_data')\n",
    "X = preprocess_for_sklearn(X)\n",
    "logreg = LogisticRegression()\n",
    "logreg.fit(X, y)\n",
    "y_pred = logreg.predict(X.loc[0:1,:])\n",
    "y_pred_prob = logreg.predict_proba(X.loc[0:10,:])[:, 1]\n",
    "print(y_pred)\n",
    "print(y_pred_prob)"
   ]
  },
  {
   "cell_type": "code",
   "execution_count": null,
   "metadata": {},
   "outputs": [],
   "source": [
    "a = list(X.loc[2,:])\n",
    "test = np.array([a])\n",
    "y_pred = logreg.predict_proba(test)[:, 1][0]\n",
    "y_pred"
   ]
  },
  {
   "cell_type": "markdown",
   "metadata": {},
   "source": [
    "## Check everything worked nicely with pickle approach"
   ]
  },
  {
   "cell_type": "markdown",
   "metadata": {},
   "source": [
    "##### Predict using scikitlearn on a single observation"
   ]
  },
  {
   "cell_type": "code",
   "execution_count": null,
   "metadata": {},
   "outputs": [],
   "source": [
    "pkl_filename = '../models/logistic.pkl'\n",
    "model_pkl = open(pkl_filename, 'rb')\n",
    "model = pickle.load(model_pkl)\n",
    "model_pkl.close()"
   ]
  },
  {
   "cell_type": "code",
   "execution_count": null,
   "metadata": {},
   "outputs": [],
   "source": [
    "a = list(X.loc[2,:])\n",
    "a[6] = 1\n",
    "a[16] = 0\n",
    "a[17] = 0\n",
    "test = np.array([a])\n",
    "y_pred = model.predict_proba(test)[:, 1][0]\n",
    "y_pred\n",
    "#60% when low\n",
    "#46.8% when medium\n",
    "#20.8% when high"
   ]
  },
  {
   "cell_type": "code",
   "execution_count": null,
   "metadata": {},
   "outputs": [],
   "source": [
    "X.loc[2,:]"
   ]
  },
  {
   "cell_type": "markdown",
   "metadata": {
    "collapsed": true
   },
   "source": [
    "Test the app with this data:\n",
    "- [0.57, 0.82, 4, 269, 2, False, False, Technical, Medium] ==> 21.30%\n",
    "- [0.97, 0.61, 4, 262, 3, True, True, Marketing, Medium] ==> 0.52%"
   ]
  },
  {
   "cell_type": "code",
   "execution_count": null,
   "metadata": {},
   "outputs": [],
   "source": [
    "a[6] = 0\n",
    "a"
   ]
  },
  {
   "cell_type": "code",
   "execution_count": null,
   "metadata": {},
   "outputs": [],
   "source": []
  }
 ],
 "metadata": {
  "kernelspec": {
   "display_name": "Python 3",
   "language": "python",
   "name": "python3"
  },
  "language_info": {
   "codemirror_mode": {
    "name": "ipython",
    "version": 3
   },
   "file_extension": ".py",
   "mimetype": "text/x-python",
   "name": "python",
   "nbconvert_exporter": "python",
   "pygments_lexer": "ipython3",
   "version": "3.6.4"
  }
 },
 "nbformat": 4,
 "nbformat_minor": 2
}
