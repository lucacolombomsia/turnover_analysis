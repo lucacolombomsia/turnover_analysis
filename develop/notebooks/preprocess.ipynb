{
 "cells": [
  {
   "cell_type": "code",
   "execution_count": 14,
   "metadata": {
    "collapsed": true
   },
   "outputs": [],
   "source": [
    "import numpy as np\n",
    "import pandas as pd"
   ]
  },
  {
   "cell_type": "code",
   "execution_count": 6,
   "metadata": {
    "collapsed": true
   },
   "outputs": [],
   "source": [
    "def read_prediction_form_data(form):\n",
    "    entry1 = form.satisfaction.data\n",
    "    entry2 = form.evaluation.data\n",
    "    entry3 = form.projects.data\n",
    "    entry4 = form.hours.data\n",
    "    entry5 = form.tenure.data\n",
    "    entry6 = form.accident.data\n",
    "    entry7 = form.promotion.data\n",
    "    entry8 = form.department.data\n",
    "    entry9 = form.salary.data\n",
    "\n",
    "    data = [entry1, entry2, entry3, entry4, entry5, int(entry6), int(entry7), entry8, entry9]\n",
    "    return data\n",
    "\n",
    "\n",
    "def preprocess_prediction_form_data(form_data):\n",
    "    mylist = form_data[0:7]\n",
    "    mylist += [0]*11\n",
    "    if (str(form_data[7])!=\"drop\"):\n",
    "        mylist[int(form_data[7])] = 1\n",
    "    \n",
    "    if (str(form_data[8])!=\"drop\"):\n",
    "        mylist[int(form_data[8])] = 1\n",
    "    \n",
    "    return np.array([mylist])"
   ]
  },
  {
   "cell_type": "code",
   "execution_count": 4,
   "metadata": {
    "collapsed": true
   },
   "outputs": [],
   "source": [
    "def give_promotion(data):\n",
    "    data[0][6] = 1\n",
    "    if list(data[0][16:18]) == [1,0]:\n",
    "        data[0][16:18] = [0,1]\n",
    "    elif list(data[0][16:18]) == [0,1]:\n",
    "        data[0][16:18] = [0,0]\n",
    "    return data"
   ]
  },
  {
   "cell_type": "code",
   "execution_count": 41,
   "metadata": {},
   "outputs": [
    {
     "name": "stdout",
     "output_type": "stream",
     "text": [
      "[[  0.97   0.6    4.   262.     3.     1.     0.     0.     0.     0.\n",
      "    0.     0.     0.     1.     0.     0.     0.     0.  ]]\n",
      "[[  0.97   0.6    4.   262.     3.     1.     1.     0.     0.     0.\n",
      "    0.     0.     0.     1.     0.     0.     0.     0.  ]]\n"
     ]
    }
   ],
   "source": [
    "#x is output of read_prediction_form_data when app is running\n",
    "x = [0.97, 0.6, 4, 262, 3, True, False, 13, 'drop']\n",
    "prediction = 46.23\n",
    "prep = preprocess_prediction_form_data(x)\n",
    "print(prep)\n",
    "print(give_promotion(prep))"
   ]
  },
  {
   "cell_type": "markdown",
   "metadata": {},
   "source": [
    "Recall\n",
    "- x[0][16] = 1 means low salary\n",
    "- x[0][17] = 1 means medium salary\n",
    "- both equal to 0 means high salary"
   ]
  },
  {
   "cell_type": "code",
   "execution_count": 40,
   "metadata": {},
   "outputs": [
    {
     "data": {
      "text/plain": [
       "'HR'"
      ]
     },
     "execution_count": 40,
     "metadata": {},
     "output_type": "execute_result"
    }
   ],
   "source": [
    "dept_dict = {\"drop\" : \"Accounting\",\n",
    "                 7 : \"HR\",\n",
    "                 8 : \"IT\",\n",
    "                 9 : \"Management\",\n",
    "                 10 : \"Marketing\",\n",
    "                 11 : \"Product management\",\n",
    "                 12 : \"R&D\",\n",
    "                 13 : \"Sales\",\n",
    "                 14 : \"Support\",\n",
    "                 15 : \"Technical\"}\n",
    "dept_dict[7]"
   ]
  },
  {
   "cell_type": "code",
   "execution_count": 36,
   "metadata": {},
   "outputs": [],
   "source": [
    "def write_prediction_form_data(form_data, prediction):\n",
    "    dept_dict = {\"drop\" : \"Accounting\",\n",
    "                 7 : \"HR\",\n",
    "                 8 : \"IT\",\n",
    "                 9 : \"Management\",\n",
    "                 10 : \"Marketing\",\n",
    "                 11 : \"Product management\",\n",
    "                 12 : \"R&D\",\n",
    "                 13 : \"Sales\",\n",
    "                 14 : \"Support\",\n",
    "                 15 : \"Technical\"}\n",
    "    salary_dict = {\"drop\" : \"High\",\n",
    "                   16: \"Low\",\n",
    "                   17: \"Medium\"}\n",
    "    \n",
    "    names = ['satisfaction_level', 'last_eval', 'num_projects', 'monthly_hours', 'tenure',\n",
    "             'work_accident', 'promotion_last_5years']\n",
    "    data = pd.DataFrame(data = [form_data[0:7]], columns = names)\n",
    "    data[\"dept\"] = dept_dict[form_data[7]]\n",
    "    data[\"salary\"] = salary_dict[form_data[8]]\n",
    "    data[\"predicted_proba\"] = prediction\n",
    "    return data\n",
    "    #engine = create_engine(dbconfig.database_config)\n",
    "    #data.to_sql(name = 'user_input', con = engine, index=False)"
   ]
  },
  {
   "cell_type": "code",
   "execution_count": 42,
   "metadata": {},
   "outputs": [
    {
     "data": {
      "text/html": [
       "<div>\n",
       "<style scoped>\n",
       "    .dataframe tbody tr th:only-of-type {\n",
       "        vertical-align: middle;\n",
       "    }\n",
       "\n",
       "    .dataframe tbody tr th {\n",
       "        vertical-align: top;\n",
       "    }\n",
       "\n",
       "    .dataframe thead th {\n",
       "        text-align: right;\n",
       "    }\n",
       "</style>\n",
       "<table border=\"1\" class=\"dataframe\">\n",
       "  <thead>\n",
       "    <tr style=\"text-align: right;\">\n",
       "      <th></th>\n",
       "      <th>satisfaction_level</th>\n",
       "      <th>last_eval</th>\n",
       "      <th>num_projects</th>\n",
       "      <th>monthly_hours</th>\n",
       "      <th>tenure</th>\n",
       "      <th>work_accident</th>\n",
       "      <th>promotion_last_5years</th>\n",
       "      <th>dept</th>\n",
       "      <th>salary</th>\n",
       "      <th>predicted_proba</th>\n",
       "    </tr>\n",
       "  </thead>\n",
       "  <tbody>\n",
       "    <tr>\n",
       "      <th>0</th>\n",
       "      <td>0.97</td>\n",
       "      <td>0.6</td>\n",
       "      <td>4</td>\n",
       "      <td>262</td>\n",
       "      <td>3</td>\n",
       "      <td>True</td>\n",
       "      <td>False</td>\n",
       "      <td>Sales</td>\n",
       "      <td>High</td>\n",
       "      <td>46.23</td>\n",
       "    </tr>\n",
       "  </tbody>\n",
       "</table>\n",
       "</div>"
      ],
      "text/plain": [
       "   satisfaction_level  last_eval  num_projects  monthly_hours  tenure  \\\n",
       "0                0.97        0.6             4            262       3   \n",
       "\n",
       "   work_accident  promotion_last_5years   dept salary  predicted_proba  \n",
       "0           True                  False  Sales   High            46.23  "
      ]
     },
     "execution_count": 42,
     "metadata": {},
     "output_type": "execute_result"
    }
   ],
   "source": [
    "write_prediction_form_data(x, prediction)"
   ]
  },
  {
   "cell_type": "code",
   "execution_count": null,
   "metadata": {
    "collapsed": true
   },
   "outputs": [],
   "source": []
  },
  {
   "cell_type": "markdown",
   "metadata": {},
   "source": [
    "## Old"
   ]
  },
  {
   "cell_type": "code",
   "execution_count": 31,
   "metadata": {},
   "outputs": [
    {
     "data": {
      "text/html": [
       "<div>\n",
       "<style scoped>\n",
       "    .dataframe tbody tr th:only-of-type {\n",
       "        vertical-align: middle;\n",
       "    }\n",
       "\n",
       "    .dataframe tbody tr th {\n",
       "        vertical-align: top;\n",
       "    }\n",
       "\n",
       "    .dataframe thead th {\n",
       "        text-align: right;\n",
       "    }\n",
       "</style>\n",
       "<table border=\"1\" class=\"dataframe\">\n",
       "  <thead>\n",
       "    <tr style=\"text-align: right;\">\n",
       "      <th></th>\n",
       "      <th>satisfaction_level</th>\n",
       "      <th>last_eval</th>\n",
       "      <th>num_projects</th>\n",
       "      <th>monthly_hours</th>\n",
       "      <th>tenure</th>\n",
       "      <th>work_accident</th>\n",
       "      <th>promotion_last_5years</th>\n",
       "      <th>dept</th>\n",
       "      <th>salary</th>\n",
       "      <th>predicted_proba</th>\n",
       "    </tr>\n",
       "  </thead>\n",
       "  <tbody>\n",
       "    <tr>\n",
       "      <th>0</th>\n",
       "      <td>0.97</td>\n",
       "      <td>0.6</td>\n",
       "      <td>4</td>\n",
       "      <td>262</td>\n",
       "      <td>3</td>\n",
       "      <td>True</td>\n",
       "      <td>False</td>\n",
       "      <td>13</td>\n",
       "      <td>drop</td>\n",
       "      <td>46.23</td>\n",
       "    </tr>\n",
       "  </tbody>\n",
       "</table>\n",
       "</div>"
      ],
      "text/plain": [
       "   satisfaction_level  last_eval  num_projects  monthly_hours  tenure  \\\n",
       "0                0.97        0.6             4            262       3   \n",
       "\n",
       "   work_accident  promotion_last_5years dept salary  predicted_proba  \n",
       "0           True                  False   13   drop            46.23  "
      ]
     },
     "execution_count": 31,
     "metadata": {},
     "output_type": "execute_result"
    }
   ],
   "source": [
    "form_data = x\n",
    "names = ['satisfaction_level', 'last_eval', 'num_projects', 'monthly_hours', 'tenure',\n",
    "             'work_accident', 'promotion_last_5years']\n",
    "data = pd.DataFrame(data = [form_data[0:7]], columns = names)\n",
    "data[\"dept\"] = form_data[7]\n",
    "data[\"salary\"] = form_data[8]\n",
    "data[\"predicted_proba\"] = prediction\n",
    "data"
   ]
  },
  {
   "cell_type": "code",
   "execution_count": 2,
   "metadata": {
    "collapsed": true
   },
   "outputs": [],
   "source": [
    "def preprocess(a_orig):\n",
    "    bin_dict = {\"Yes\" : 1, \"No\" : 0}\n",
    "    dept_dict = {\"HR\" : 7,\n",
    "                 \"IT\" : 8,\n",
    "                 \"Management\" : 9,\n",
    "                 \"Marketing\" : 10,\n",
    "                 \"Product management\" : 11,\n",
    "                 \"R&D\" : 12,\n",
    "                 \"Sales\" : 13,\n",
    "                 \"Support\" : 14,\n",
    "                 \"Technical\" : 15}\n",
    "    salary_dict = {\"Low\" : 16,\n",
    "                   \"Medium\" : 17}\n",
    "    \n",
    "    a = a_orig[0:7]\n",
    "    a[5] = bin_dict[a[5]]\n",
    "    a[6] = bin_dict[a[6]]\n",
    "    a = a + [0]*11\n",
    "    if (a_orig[7]!=\"Accounting\"):\n",
    "        a[dept_dict[a_orig[7]]] = 1\n",
    "    if (a_orig[8]!=\"High\"):\n",
    "        a[salary_dict[a_orig[8]]] = 1\n",
    "    a += [a[6]*a[3]]\n",
    "    a += [a[6]*a[4]]\n",
    "    return a"
   ]
  },
  {
   "cell_type": "code",
   "execution_count": 3,
   "metadata": {},
   "outputs": [
    {
     "data": {
      "text/plain": [
       "[12.0, 4.0, 4.0, 1.0, 5.0, 'Yes', 'Yes', 'Technical', 'Medium']"
      ]
     },
     "execution_count": 3,
     "metadata": {},
     "output_type": "execute_result"
    }
   ],
   "source": [
    "a_orig"
   ]
  },
  {
   "cell_type": "code",
   "execution_count": null,
   "metadata": {
    "collapsed": true
   },
   "outputs": [],
   "source": []
  },
  {
   "cell_type": "code",
   "execution_count": 2,
   "metadata": {
    "collapsed": true
   },
   "outputs": [],
   "source": [
    "def preprocess(entry1, entry2, entry3, entry4, entry5, entry6, entry7, entry8, entry9):\n",
    "    \"\"\" Preprocesses data inputted by the user in the flask app.   \n",
    "    \n",
    "    The user inputs data in the form on the flask app. The data is then read and must be preprocessed before\n",
    "    being used for prediction.\n",
    "    The model was fit using scikit learn, so categorical variables need to be transformed into dummies\n",
    "    for the user input to be used for prediction.\n",
    "    The output of this function contains all necessary dummies and is ready to be fed into the model.\n",
    "\n",
    "    Args:\n",
    "        a_orig (list): A list with the user input read from the form.\n",
    "\n",
    "    Returns:\n",
    "        list: A list with the processed data.\n",
    "    \"\"\"\n",
    "\n",
    "    #keep only the first 7 elements (5 numerical variables + 2 binary variables)\n",
    "    mylist = [entry1, entry2, float(entry3), float(entry4),\n",
    "                float(entry5), int(entry6), int(entry7)]\n",
    "    #there are 10 possible categories (9 dummies) for the \"department\" variable\n",
    "    #there are 3 possibile categories (2 dummies) for the \"salary\" variable\n",
    "    #in total, 11 dummies ==> add 11 zeros, then will use dictionary to change the relevant dummy to 1\n",
    "    mylist += [0]*11\n",
    "    #Accounting is the reference category, so no dummy for it (to avoid perfect multicollinearity)\n",
    "    if (str(entry8)!=\"drop\"):\n",
    "        mylist[int(entry8)] = 1\n",
    "    #High is the reference category, so no dummy for it (to avoid perfect multicollinearity)\n",
    "    if (str(entry9)!=\"drop\"):\n",
    "        mylist[int(entry9)] = 1\n",
    "    return np.array([mylist])"
   ]
  }
 ],
 "metadata": {
  "kernelspec": {
   "display_name": "Python [conda root]",
   "language": "python",
   "name": "conda-root-py"
  },
  "language_info": {
   "codemirror_mode": {
    "name": "ipython",
    "version": 3
   },
   "file_extension": ".py",
   "mimetype": "text/x-python",
   "name": "python",
   "nbconvert_exporter": "python",
   "pygments_lexer": "ipython3",
   "version": "3.6.3"
  }
 },
 "nbformat": 4,
 "nbformat_minor": 2
}
