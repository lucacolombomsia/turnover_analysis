{
 "cells": [
  {
   "cell_type": "code",
   "execution_count": 1,
   "metadata": {},
   "outputs": [],
   "source": [
    "import pandas as pd\n",
    "import os\n",
    "from sklearn.model_selection import train_test_split\n",
    "\n",
    "def prep_tables():\n",
    "    employees = pd.read_csv('../data/turnover.csv')\n",
    "    \n",
    "    employees.insert(0, 'emp_ID', range(1, len(employees)+1))\n",
    "    # holdout 1000 observation for bulk-loading and making prediction\n",
    "    # this heldout data will simulate in-production data\n",
    "    train, test = train_test_split(employees,\n",
    "                                   test_size=1000,\n",
    "                                   random_state=12345)\n",
    "    \n",
    "    test = test.reset_index(drop=True)\n",
    "    \n",
    "    # drop the Y variable for the test data, so that it can play\n",
    "    # the role of in-production data\n",
    "    # this data will be used for bulk-load predictions\n",
    "    jul17, jan18 = train_test_split(test,\n",
    "                                    test_size=500,\n",
    "                                    random_state=12345)\n",
    "    jul17 = jul17.reset_index(drop=True)\n",
    "    jan18 = jan18.reset_index(drop=True)\n",
    "    return (train, jul17, jan18)"
   ]
  },
  {
   "cell_type": "code",
   "execution_count": 2,
   "metadata": {},
   "outputs": [],
   "source": [
    "train, test, test2 = prep_tables()"
   ]
  },
  {
   "cell_type": "code",
   "execution_count": 5,
   "metadata": {},
   "outputs": [
    {
     "name": "stdout",
     "output_type": "stream",
     "text": [
      "['emp_ID', 'satisfaction_level', 'last_evaluation', 'number_project', 'average_montly_hours', 'time_spend_company', 'Work_accident', 'left', 'promotion_last_5years', 'sales', 'salary']\n",
      "['emp_ID', 'satisfaction_level', 'last_evaluation', 'number_project', 'average_montly_hours', 'time_spend_company', 'Work_accident', 'left', 'promotion_last_5years', 'sales', 'salary']\n"
     ]
    }
   ],
   "source": [
    "print(list(train))\n",
    "print(list(test))"
   ]
  },
  {
   "cell_type": "code",
   "execution_count": 3,
   "metadata": {},
   "outputs": [],
   "source": [
    "train.to_csv('../data/train.csv', index = False)"
   ]
  },
  {
   "cell_type": "code",
   "execution_count": 4,
   "metadata": {},
   "outputs": [],
   "source": [
    "test2.to_csv('../data/test.csv', index = False)"
   ]
  },
  {
   "cell_type": "code",
   "execution_count": null,
   "metadata": {},
   "outputs": [],
   "source": []
  },
  {
   "cell_type": "code",
   "execution_count": null,
   "metadata": {},
   "outputs": [],
   "source": []
  },
  {
   "cell_type": "code",
   "execution_count": null,
   "metadata": {},
   "outputs": [],
   "source": []
  },
  {
   "cell_type": "markdown",
   "metadata": {},
   "source": [
    "## Old"
   ]
  },
  {
   "cell_type": "code",
   "execution_count": null,
   "metadata": {},
   "outputs": [],
   "source": [
    "import config\n",
    "from sqlalchemy import create_engine\n",
    "import pandas as pd\n",
    "import os\n",
    "\n",
    "\n",
    "def read_data(table_name):\n",
    "    \"\"\"Read the data from a specified table in the database.\n",
    "\n",
    "    This function can be used to query both the train set (used to fit model)\n",
    "    and the \"in-production\" data (used to make bulk predictions).\n",
    "    This function will always return a dataframe with all columns stored\n",
    "    in the table that it is asked to query.\n",
    "\n",
    "    Args:\n",
    "        table_name (str): Name of table to be queried\n",
    "\n",
    "    Returns:\n",
    "        pandas.DataFrame: A dataframe with the data read from database.\n",
    "    \"\"\"\n",
    "    engine = create_engine(config.database_config)\n",
    "    sql = \"select * from \" + table_name\n",
    "    data = pd.read_sql_query(sql, con=engine)\n",
    "    return data"
   ]
  }
 ],
 "metadata": {
  "kernelspec": {
   "display_name": "Python 3",
   "language": "python",
   "name": "python3"
  },
  "language_info": {
   "codemirror_mode": {
    "name": "ipython",
    "version": 3
   },
   "file_extension": ".py",
   "mimetype": "text/x-python",
   "name": "python",
   "nbconvert_exporter": "python",
   "pygments_lexer": "ipython3",
   "version": "3.6.4"
  }
 },
 "nbformat": 4,
 "nbformat_minor": 2
}
