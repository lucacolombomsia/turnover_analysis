{
 "cells": [
  {
   "cell_type": "code",
   "execution_count": 2,
   "metadata": {
    "collapsed": true
   },
   "outputs": [],
   "source": [
    "def preprocess(a_orig):\n",
    "    bin_dict = {\"Yes\" : 1, \"No\" : 0}\n",
    "    dept_dict = {\"HR\" : 7,\n",
    "                 \"IT\" : 8,\n",
    "                 \"Management\" : 9,\n",
    "                 \"Marketing\" : 10,\n",
    "                 \"Product management\" : 11,\n",
    "                 \"R&D\" : 12,\n",
    "                 \"Sales\" : 13,\n",
    "                 \"Support\" : 14,\n",
    "                 \"Technical\" : 15}\n",
    "    salary_dict = {\"Low\" : 16,\n",
    "                   \"Medium\" : 17}\n",
    "    \n",
    "    a = a_orig[0:7]\n",
    "    a[5] = bin_dict[a[5]]\n",
    "    a[6] = bin_dict[a[6]]\n",
    "    a = a + [0]*11\n",
    "    if (a_orig[7]!=\"Accounting\"):\n",
    "        a[dept_dict[a_orig[7]]] = 1\n",
    "    if (a_orig[8]!=\"High\"):\n",
    "        a[salary_dict[a_orig[8]]] = 1\n",
    "    a += [a[6]*a[3]]\n",
    "    a += [a[6]*a[4]]\n",
    "    return a"
   ]
  },
  {
   "cell_type": "code",
   "execution_count": 1,
   "metadata": {},
   "outputs": [
    {
     "ename": "NameError",
     "evalue": "name 'preprocess' is not defined",
     "output_type": "error",
     "traceback": [
      "\u001b[0;31m---------------------------------------------------------------------------\u001b[0m",
      "\u001b[0;31mNameError\u001b[0m                                 Traceback (most recent call last)",
      "\u001b[0;32m<ipython-input-1-1284c9c90b8d>\u001b[0m in \u001b[0;36m<module>\u001b[0;34m()\u001b[0m\n\u001b[1;32m     19\u001b[0m  \u001b[0;36m262.0\u001b[0m\u001b[0;34m,\u001b[0m\u001b[0;34m\u001b[0m\u001b[0m\n\u001b[1;32m     20\u001b[0m  3.0]\n\u001b[0;32m---> 21\u001b[0;31m \u001b[0mpreprocess\u001b[0m\u001b[0;34m(\u001b[0m\u001b[0ma_orig\u001b[0m\u001b[0;34m)\u001b[0m\u001b[0;34m\u001b[0m\u001b[0m\n\u001b[0m",
      "\u001b[0;31mNameError\u001b[0m: name 'preprocess' is not defined"
     ]
    }
   ],
   "source": [
    "a_orig = [0.97, 0.6, 4.0, 262, 3.0, 1.0, 5.0, 'Yes', 'Yes', 'Technical', 'Medium']\n",
    "[0.97,\n",
    " 0.60,\n",
    " 4.0,\n",
    " 262.0,\n",
    " 3.0,\n",
    " 1.0,\n",
    " 1.0,\n",
    " 0.0,\n",
    " 0.0,\n",
    " 0.0,\n",
    " 1.0,\n",
    " 0.0,\n",
    " 0.0,\n",
    " 0.0,\n",
    " 0.0,\n",
    " 0.0,\n",
    " 0.0,\n",
    " 1.0,\n",
    " 262.0,\n",
    " 3.0]\n",
    "preprocess(a_orig)"
   ]
  },
  {
   "cell_type": "code",
   "execution_count": 3,
   "metadata": {},
   "outputs": [
    {
     "data": {
      "text/plain": [
       "[12.0, 4.0, 4.0, 1.0, 5.0, 'Yes', 'Yes', 'Technical', 'Medium']"
      ]
     },
     "execution_count": 3,
     "metadata": {},
     "output_type": "execute_result"
    }
   ],
   "source": [
    "a_orig"
   ]
  },
  {
   "cell_type": "code",
   "execution_count": null,
   "metadata": {
    "collapsed": true
   },
   "outputs": [],
   "source": []
  }
 ],
 "metadata": {
  "kernelspec": {
   "display_name": "Python [conda root]",
   "language": "python",
   "name": "conda-root-py"
  },
  "language_info": {
   "codemirror_mode": {
    "name": "ipython",
    "version": 3
   },
   "file_extension": ".py",
   "mimetype": "text/x-python",
   "name": "python",
   "nbconvert_exporter": "python",
   "pygments_lexer": "ipython3",
   "version": "3.6.3"
  }
 },
 "nbformat": 4,
 "nbformat_minor": 2
}
