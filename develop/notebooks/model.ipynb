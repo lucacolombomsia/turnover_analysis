{
 "cells": [
  {
   "cell_type": "code",
   "execution_count": 1,
   "metadata": {
    "collapsed": true
   },
   "outputs": [],
   "source": [
    "import config\n",
    "import pandas as pd\n",
    "import numpy as np\n",
    "from sqlalchemy import create_engine\n",
    "from sklearn.linear_model import LogisticRegression\n",
    "import math"
   ]
  },
  {
   "cell_type": "code",
   "execution_count": 2,
   "metadata": {
    "collapsed": true
   },
   "outputs": [],
   "source": [
    "def read_data():\n",
    "    engine = create_engine(config.database_config)\n",
    "    emp = pd.read_sql_query(\"select * from employees\", con = engine)\n",
    "    y = emp['left']\n",
    "    emp = emp.drop('left', axis=1)\n",
    "    cat_vars=['sales','salary']\n",
    "    for var in cat_vars:\n",
    "        emp = emp.join(pd.get_dummies(emp[var], prefix=var))\n",
    "        emp = emp.drop(var, axis = 1)\n",
    "    emp = emp.drop([\"empID\", \"salary_high\", \"sales_accounting\"], axis = 1)\n",
    "    return (emp, y)"
   ]
  },
  {
   "cell_type": "code",
   "execution_count": 3,
   "metadata": {
    "collapsed": true
   },
   "outputs": [],
   "source": [
    "def fit_model(data):\n",
    "    X = data[0]\n",
    "    y = data[1]\n",
    "    logreg = LogisticRegression()\n",
    "    logreg.fit(X, y)\n",
    "    b = [logreg.intercept_[0]]\n",
    "    for x in logreg.coef_[0]:\n",
    "        b.append(x)\n",
    "    beta_df = pd.DataFrame({\"b_vect\" : b})\n",
    "    engine = create_engine(config.database_config)\n",
    "    beta_df.to_sql(name = 'betas', con = engine, if_exists='replace', index=False)"
   ]
  },
  {
   "cell_type": "code",
   "execution_count": 4,
   "metadata": {
    "collapsed": true
   },
   "outputs": [],
   "source": [
    "if __name__ == \"__main__\":\n",
    "    fit_model(read_data())"
   ]
  },
  {
   "cell_type": "code",
   "execution_count": null,
   "metadata": {
    "collapsed": true
   },
   "outputs": [],
   "source": []
  },
  {
   "cell_type": "markdown",
   "metadata": {},
   "source": [
    "## Check everything worked nicely"
   ]
  },
  {
   "cell_type": "code",
   "execution_count": 5,
   "metadata": {
    "collapsed": true
   },
   "outputs": [],
   "source": [
    "X, y = read_data()"
   ]
  },
  {
   "cell_type": "code",
   "execution_count": 6,
   "metadata": {
    "collapsed": true
   },
   "outputs": [],
   "source": [
    "engine = create_engine(config.database_config)\n",
    "b = pd.read_sql_query(\"select * from betas\", con = engine)\n",
    "b = list(b.b_vect)"
   ]
  },
  {
   "cell_type": "code",
   "execution_count": 7,
   "metadata": {},
   "outputs": [
    {
     "data": {
      "text/plain": [
       "0.5267692106766013"
      ]
     },
     "execution_count": 7,
     "metadata": {},
     "output_type": "execute_result"
    }
   ],
   "source": [
    "a = [1] + [x for x in list(X.loc[0,:])]\n",
    "logodds = np.inner(a, b)\n",
    "math.exp(logodds)/(1+math.exp(logodds))"
   ]
  },
  {
   "cell_type": "markdown",
   "metadata": {},
   "source": [
    "##### Next block does prediction using scikitlearn"
   ]
  },
  {
   "cell_type": "code",
   "execution_count": 8,
   "metadata": {},
   "outputs": [
    {
     "name": "stdout",
     "output_type": "stream",
     "text": [
      "[1 0 1 ..., 1 1 1]\n",
      "[ 0.52676921  0.16806627  0.533359   ...,  0.5403611   0.75754036\n",
      "  0.5544593 ]\n"
     ]
    }
   ],
   "source": [
    "logreg = LogisticRegression()\n",
    "logreg.fit(X, y)\n",
    "y_pred = logreg.predict(X)\n",
    "y_pred_prob = logreg.predict_proba(X)[:, 1]\n",
    "print(y_pred)\n",
    "print(y_pred_prob)"
   ]
  },
  {
   "cell_type": "code",
   "execution_count": null,
   "metadata": {
    "collapsed": true
   },
   "outputs": [],
   "source": []
  }
 ],
 "metadata": {
  "kernelspec": {
   "display_name": "Python [conda root]",
   "language": "python",
   "name": "conda-root-py"
  },
  "language_info": {
   "codemirror_mode": {
    "name": "ipython",
    "version": 3
   },
   "file_extension": ".py",
   "mimetype": "text/x-python",
   "name": "python",
   "nbconvert_exporter": "python",
   "pygments_lexer": "ipython3",
   "version": "3.6.3"
  }
 },
 "nbformat": 4,
 "nbformat_minor": 2
}
