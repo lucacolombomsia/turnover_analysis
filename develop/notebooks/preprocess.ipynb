{
 "cells": [
  {
   "cell_type": "code",
   "execution_count": 1,
   "metadata": {},
   "outputs": [],
   "source": [
    "def preprocess(a_orig):\n",
    "    bin_dict = {\"Yes\" : 1, \"No\" : 0}\n",
    "    dept_dict = {\"HR\" : 7,\n",
    "                 \"IT\" : 8,\n",
    "                 \"Management\" : 9,\n",
    "                 \"Marketing\" : 10,\n",
    "                 \"Product management\" : 11,\n",
    "                 \"R&D\" : 12,\n",
    "                 \"Sales\" : 13,\n",
    "                 \"Support\" : 14,\n",
    "                 \"Technical\" : 15}\n",
    "    salary_dict = {\"Low\" : 16,\n",
    "                   \"Medium\" : 17}\n",
    "    \n",
    "    a = a_orig[0:7]\n",
    "    a[5] = bin_dict[a[5]]\n",
    "    a[6] = bin_dict[a[6]]\n",
    "    a = a + [0]*11\n",
    "    if (a_orig[7]!=\"Accounting\"):\n",
    "        a[dept_dict[a_orig[7]]] = 1\n",
    "    if (a_orig[8]!=\"High\"):\n",
    "        a[salary_dict[a_orig[8]]] = 1\n",
    "    return a"
   ]
  },
  {
   "cell_type": "code",
   "execution_count": 2,
   "metadata": {},
   "outputs": [
    {
     "data": {
      "text/plain": [
       "[12.0, 4.0, 4.0, 1.0, 5.0, 1, 1, 0, 0, 0, 0, 0, 0, 0, 0, 1, 0, 1]"
      ]
     },
     "execution_count": 2,
     "metadata": {},
     "output_type": "execute_result"
    }
   ],
   "source": [
    "a_orig = [12.0, 4.0, 4.0, 1.0, 5.0, 'Yes', 'Yes', 'Technical', 'Medium']\n",
    "preprocess(a_orig)"
   ]
  },
  {
   "cell_type": "code",
   "execution_count": 3,
   "metadata": {},
   "outputs": [
    {
     "data": {
      "text/plain": [
       "[12.0, 4.0, 4.0, 1.0, 5.0, 'Yes', 'Yes', 'Technical', 'Medium']"
      ]
     },
     "execution_count": 3,
     "metadata": {},
     "output_type": "execute_result"
    }
   ],
   "source": [
    "a_orig"
   ]
  },
  {
   "cell_type": "code",
   "execution_count": null,
   "metadata": {
    "collapsed": true
   },
   "outputs": [],
   "source": []
  }
 ],
 "metadata": {
  "kernelspec": {
   "display_name": "Python [conda root]",
   "language": "python",
   "name": "conda-root-py"
  },
  "language_info": {
   "codemirror_mode": {
    "name": "ipython",
    "version": 3
   },
   "file_extension": ".py",
   "mimetype": "text/x-python",
   "name": "python",
   "nbconvert_exporter": "python",
   "pygments_lexer": "ipython3",
   "version": "3.6.3"
  }
 },
 "nbformat": 4,
 "nbformat_minor": 2
}
