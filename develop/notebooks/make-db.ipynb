{
 "cells": [
  {
   "cell_type": "code",
   "execution_count": 1,
   "metadata": {
    "collapsed": true
   },
   "outputs": [],
   "source": [
    "import pandas as pd\n",
    "from sqlalchemy import create_engine\n",
    "import config\n",
    "from sklearn.model_selection import train_test_split"
   ]
  },
  {
   "cell_type": "code",
   "execution_count": 2,
   "metadata": {},
   "outputs": [
    {
     "name": "stdout",
     "output_type": "stream",
     "text": [
      "Done\n",
      "Done\n"
     ]
    }
   ],
   "source": [
    "def make_tables() :\n",
    "    \"\"\"\n",
    "    Reads the training data from csv and writes it to employees table in database\n",
    "    \"\"\"\n",
    "    employees = pd.read_csv('../data/turnover.csv')\n",
    "    employees.insert(0, 'emp_ID', range(1, len(employees)+1))\n",
    "    train, test = train_test_split(employees, test_size=1000, random_state = 12345)\n",
    "    test = test.reset_index(drop=True)\n",
    "    test = test.join(pd.read_csv(\"../data/random-names.csv\"))\n",
    "    test = test.drop([\"left\"], axis = 1)\n",
    "    jul17, jan18 = train_test_split(test, test_size=500, random_state = 12345)\n",
    "    engine = create_engine(config.database_config)\n",
    "    jul17.to_sql(name = 'employees_eval_jul17', con = engine, if_exists='replace', index=False)\n",
    "    print(\"Done\")\n",
    "    jan18.to_sql(name = 'employees_eval_jan18', con = engine, if_exists='replace', index=False)\n",
    "    print(\"Done\")\n",
    "    train.to_sql(name = 'employees_hist_data', con = engine, if_exists='replace', index=False)\n",
    "    \n",
    "if __name__ == \"__main__\":\n",
    "    make_tables()\n"
   ]
  },
  {
   "cell_type": "code",
   "execution_count": null,
   "metadata": {
    "collapsed": true
   },
   "outputs": [],
   "source": []
  },
  {
   "cell_type": "markdown",
   "metadata": {},
   "source": [
    "## Testing area"
   ]
  },
  {
   "cell_type": "code",
   "execution_count": 48,
   "metadata": {},
   "outputs": [
    {
     "data": {
      "text/plain": [
       "(1000, 12)"
      ]
     },
     "execution_count": 48,
     "metadata": {},
     "output_type": "execute_result"
    }
   ],
   "source": [
    "employees = pd.read_csv('../data/turnover.csv')\n",
    "employees.insert(0, 'emp_ID', range(1, len(employees)+1))\n",
    "train, test = train_test_split(employees, test_size=1000, random_state = 12345)\n",
    "test = test.reset_index(drop=True)\n",
    "test = test.join(pd.read_csv(\"../data/random-names.csv\"))\n",
    "test.shape"
   ]
  },
  {
   "cell_type": "code",
   "execution_count": null,
   "metadata": {
    "collapsed": true
   },
   "outputs": [],
   "source": []
  },
  {
   "cell_type": "code",
   "execution_count": null,
   "metadata": {
    "collapsed": true
   },
   "outputs": [],
   "source": []
  },
  {
   "cell_type": "code",
   "execution_count": null,
   "metadata": {
    "collapsed": true
   },
   "outputs": [],
   "source": []
  }
 ],
 "metadata": {
  "kernelspec": {
   "display_name": "Python [conda root]",
   "language": "python",
   "name": "conda-root-py"
  },
  "language_info": {
   "codemirror_mode": {
    "name": "ipython",
    "version": 3
   },
   "file_extension": ".py",
   "mimetype": "text/x-python",
   "name": "python",
   "nbconvert_exporter": "python",
   "pygments_lexer": "ipython3",
   "version": "3.6.3"
  }
 },
 "nbformat": 4,
 "nbformat_minor": 2
}
