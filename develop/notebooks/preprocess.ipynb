{
 "cells": [
  {
   "cell_type": "code",
   "execution_count": 1,
   "metadata": {
    "collapsed": true
   },
   "outputs": [],
   "source": [
    "import numpy as np"
   ]
  },
  {
   "cell_type": "code",
   "execution_count": 2,
   "metadata": {
    "collapsed": true
   },
   "outputs": [],
   "source": [
    "def preprocess(entry1, entry2, entry3, entry4, entry5, entry6, entry7, entry8, entry9):\n",
    "    \"\"\" Preprocesses data inputted by the user in the flask app.   \n",
    "    \n",
    "    The user inputs data in the form on the flask app. The data is then read and must be preprocessed before\n",
    "    being used for prediction.\n",
    "    The model was fit using scikit learn, so categorical variables need to be transformed into dummies\n",
    "    for the user input to be used for prediction.\n",
    "    The output of this function contains all necessary dummies and is ready to be fed into the model.\n",
    "\n",
    "    Args:\n",
    "        a_orig (list): A list with the user input read from the form.\n",
    "\n",
    "    Returns:\n",
    "        list: A list with the processed data.\n",
    "    \"\"\"\n",
    "\n",
    "    #keep only the first 7 elements (5 numerical variables + 2 binary variables)\n",
    "    mylist = [entry1, entry2, float(entry3), float(entry4),\n",
    "                float(entry5), int(entry6), int(entry7)]\n",
    "    #there are 10 possible categories (9 dummies) for the \"department\" variable\n",
    "    #there are 3 possibile categories (2 dummies) for the \"salary\" variable\n",
    "    #in total, 11 dummies ==> add 11 zeros, then will use dictionary to change the relevant dummy to 1\n",
    "    mylist += [0]*11\n",
    "    #Accounting is the reference category, so no dummy for it (to avoid perfect multicollinearity)\n",
    "    if (str(entry8)!=\"drop\"):\n",
    "        mylist[int(entry8)] = 1\n",
    "    #High is the reference category, so no dummy for it (to avoid perfect multicollinearity)\n",
    "    if (str(entry9)!=\"drop\"):\n",
    "        mylist[int(entry9)] = 1\n",
    "    return np.array([mylist])"
   ]
  },
  {
   "cell_type": "code",
   "execution_count": 9,
   "metadata": {
    "collapsed": true
   },
   "outputs": [],
   "source": [
    "def give_promotion(data):\n",
    "    data[0][6] = 1\n",
    "    if list(data[0][16:18]) == [1,0]:\n",
    "        data[0][16:18] = [0,1]\n",
    "    elif list(data[0][16:18]) == [0,1]:\n",
    "        data[0][16:18] = [0,0]\n",
    "    return data"
   ]
  },
  {
   "cell_type": "code",
   "execution_count": 16,
   "metadata": {},
   "outputs": [
    {
     "name": "stdout",
     "output_type": "stream",
     "text": [
      "[[   0.97    0.6     4.    262.      3.      1.      0.      0.      0.\n",
      "     0.      0.      0.      0.      1.      0.      0.      0.      0.  ]]\n",
      "[[   0.97    0.6     4.    262.      3.      1.      1.      0.      0.\n",
      "     0.      0.      0.      0.      1.      0.      0.      0.      0.  ]]\n"
     ]
    }
   ],
   "source": [
    "x = preprocess(0.97, 0.6, 4, 262, 3, True, False, '13', 'drop')\n",
    "print(x)\n",
    "print(give_promotion(x))"
   ]
  },
  {
   "cell_type": "markdown",
   "metadata": {},
   "source": [
    "Recall\n",
    "- x[0][16] = 1 means low salary\n",
    "- x[0][17] = 1 means medium salary\n",
    "- both equal to 0 means high salary"
   ]
  },
  {
   "cell_type": "code",
   "execution_count": 19,
   "metadata": {},
   "outputs": [
    {
     "data": {
      "text/plain": [
       "[0.0, 1.0]"
      ]
     },
     "execution_count": 19,
     "metadata": {},
     "output_type": "execute_result"
    }
   ],
   "source": [
    "#list(x[0][16:18]) == [0,1]\n",
    "list(x[0][16:18])"
   ]
  },
  {
   "cell_type": "code",
   "execution_count": null,
   "metadata": {
    "collapsed": true
   },
   "outputs": [],
   "source": []
  },
  {
   "cell_type": "code",
   "execution_count": null,
   "metadata": {
    "collapsed": true
   },
   "outputs": [],
   "source": []
  },
  {
   "cell_type": "markdown",
   "metadata": {},
   "source": [
    "## Old"
   ]
  },
  {
   "cell_type": "code",
   "execution_count": 2,
   "metadata": {
    "collapsed": true
   },
   "outputs": [],
   "source": [
    "def preprocess(a_orig):\n",
    "    bin_dict = {\"Yes\" : 1, \"No\" : 0}\n",
    "    dept_dict = {\"HR\" : 7,\n",
    "                 \"IT\" : 8,\n",
    "                 \"Management\" : 9,\n",
    "                 \"Marketing\" : 10,\n",
    "                 \"Product management\" : 11,\n",
    "                 \"R&D\" : 12,\n",
    "                 \"Sales\" : 13,\n",
    "                 \"Support\" : 14,\n",
    "                 \"Technical\" : 15}\n",
    "    salary_dict = {\"Low\" : 16,\n",
    "                   \"Medium\" : 17}\n",
    "    \n",
    "    a = a_orig[0:7]\n",
    "    a[5] = bin_dict[a[5]]\n",
    "    a[6] = bin_dict[a[6]]\n",
    "    a = a + [0]*11\n",
    "    if (a_orig[7]!=\"Accounting\"):\n",
    "        a[dept_dict[a_orig[7]]] = 1\n",
    "    if (a_orig[8]!=\"High\"):\n",
    "        a[salary_dict[a_orig[8]]] = 1\n",
    "    a += [a[6]*a[3]]\n",
    "    a += [a[6]*a[4]]\n",
    "    return a"
   ]
  },
  {
   "cell_type": "code",
   "execution_count": 3,
   "metadata": {},
   "outputs": [
    {
     "data": {
      "text/plain": [
       "[12.0, 4.0, 4.0, 1.0, 5.0, 'Yes', 'Yes', 'Technical', 'Medium']"
      ]
     },
     "execution_count": 3,
     "metadata": {},
     "output_type": "execute_result"
    }
   ],
   "source": [
    "a_orig"
   ]
  },
  {
   "cell_type": "code",
   "execution_count": null,
   "metadata": {
    "collapsed": true
   },
   "outputs": [],
   "source": []
  }
 ],
 "metadata": {
  "kernelspec": {
   "display_name": "Python [conda root]",
   "language": "python",
   "name": "conda-root-py"
  },
  "language_info": {
   "codemirror_mode": {
    "name": "ipython",
    "version": 3
   },
   "file_extension": ".py",
   "mimetype": "text/x-python",
   "name": "python",
   "nbconvert_exporter": "python",
   "pygments_lexer": "ipython3",
   "version": "3.6.3"
  }
 },
 "nbformat": 4,
 "nbformat_minor": 2
}
