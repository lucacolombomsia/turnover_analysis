{
 "cells": [
  {
   "cell_type": "code",
   "execution_count": 43,
   "metadata": {
    "collapsed": true
   },
   "outputs": [],
   "source": [
    "import config\n",
    "import pandas as pd\n",
    "import numpy as np\n",
    "from sqlalchemy import create_engine\n",
    "from sklearn.linear_model import LogisticRegression\n",
    "import math\n",
    "import pickle\n",
    "pd.options.display.max_columns = 25"
   ]
  },
  {
   "cell_type": "code",
   "execution_count": 44,
   "metadata": {
    "collapsed": true
   },
   "outputs": [],
   "source": [
    "def read_data():\n",
    "    engine = create_engine(config.database_config)\n",
    "    emp = pd.read_sql_query(\"select * from employees_hist_data\", con = engine)\n",
    "    y = emp['left']\n",
    "    emp.sales = emp.sales.str.lower()\n",
    "    emp = emp.join(pd.get_dummies(emp[\"sales\"], prefix=\"dept\"))\n",
    "    emp = emp.join(pd.get_dummies(emp[\"salary\"], prefix=\"salary\"))\n",
    "    emp = emp.drop([\"left\", \"emp_ID\", \"salary_high\", \"dept_accounting\", \"sales\", \"salary\"], axis = 1)\n",
    "    emp[\"interaction_promotion_hours\"] = emp.promotion_last_5years * emp.average_montly_hours\n",
    "    emp[\"interaction_promotion_tenure\"] = emp.promotion_last_5years * emp.time_spend_company\n",
    "    return (emp, y)"
   ]
  },
  {
   "cell_type": "code",
   "execution_count": 45,
   "metadata": {
    "collapsed": true
   },
   "outputs": [],
   "source": [
    "def fit_model_pickle(data):\n",
    "    X = data[0]\n",
    "    y = data[1]\n",
    "    logreg = LogisticRegression()\n",
    "    logreg.fit(X, y)\n",
    "    #pickle the model\n",
    "    pkl_filename = '../models/logistic.pkl'\n",
    "    model_pkl = open(pkl_filename, 'wb')\n",
    "    pickle.dump(logreg, model_pkl)\n",
    "    model_pkl.close()"
   ]
  },
  {
   "cell_type": "code",
   "execution_count": 35,
   "metadata": {
    "collapsed": true
   },
   "outputs": [],
   "source": [
    "if __name__ == \"__main__\":\n",
    "    fit_model_pickle(read_data())"
   ]
  },
  {
   "cell_type": "code",
   "execution_count": null,
   "metadata": {
    "collapsed": true
   },
   "outputs": [],
   "source": []
  },
  {
   "cell_type": "markdown",
   "metadata": {},
   "source": [
    "## Playground"
   ]
  },
  {
   "cell_type": "markdown",
   "metadata": {},
   "source": [
    "##### Next block does prediction using scikitlearn, should match results below"
   ]
  },
  {
   "cell_type": "code",
   "execution_count": 46,
   "metadata": {},
   "outputs": [
    {
     "name": "stdout",
     "output_type": "stream",
     "text": [
      "[0 0]\n",
      "[ 0.11570227  0.00842564]\n"
     ]
    }
   ],
   "source": [
    "X, y = read_data()\n",
    "logreg = LogisticRegression()\n",
    "logreg.fit(X, y)\n",
    "y_pred = logreg.predict(X.loc[0:1,:])\n",
    "y_pred_prob = logreg.predict_proba(X.loc[0:1,:])[:, 1]\n",
    "print(y_pred)\n",
    "print(y_pred_prob)"
   ]
  },
  {
   "cell_type": "markdown",
   "metadata": {},
   "source": [
    "## Check everything worked nicely with pickle approach"
   ]
  },
  {
   "cell_type": "markdown",
   "metadata": {},
   "source": [
    "##### Predict using scikitlearn on a single observation"
   ]
  },
  {
   "cell_type": "code",
   "execution_count": 47,
   "metadata": {
    "collapsed": true
   },
   "outputs": [],
   "source": [
    "pkl_filename = '../models/logistic.pkl'\n",
    "model_pkl = open(pkl_filename, 'rb')\n",
    "model = pickle.load(model_pkl)\n",
    "model_pkl.close()"
   ]
  },
  {
   "cell_type": "code",
   "execution_count": 57,
   "metadata": {},
   "outputs": [
    {
     "data": {
      "text/plain": [
       "0.0051892727692853698"
      ]
     },
     "execution_count": 57,
     "metadata": {},
     "output_type": "execute_result"
    }
   ],
   "source": [
    "a = list(X.loc[61,:]) #this row has a positive interaction\n",
    "test = np.array([a])\n",
    "y_pred = model.predict_proba(test)[:, 1][0]\n",
    "y_pred"
   ]
  },
  {
   "cell_type": "code",
   "execution_count": null,
   "metadata": {
    "collapsed": true
   },
   "outputs": [],
   "source": []
  }
 ],
 "metadata": {
  "kernelspec": {
   "display_name": "Python [conda root]",
   "language": "python",
   "name": "conda-root-py"
  },
  "language_info": {
   "codemirror_mode": {
    "name": "ipython",
    "version": 3
   },
   "file_extension": ".py",
   "mimetype": "text/x-python",
   "name": "python",
   "nbconvert_exporter": "python",
   "pygments_lexer": "ipython3",
   "version": "3.6.3"
  }
 },
 "nbformat": 4,
 "nbformat_minor": 2
}
